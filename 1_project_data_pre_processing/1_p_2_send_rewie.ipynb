{
 "cells": [
  {
   "cell_type": "markdown",
   "metadata": {},
   "source": [
    "---\n",
    "\n",
    "Дмитрий привет! \n",
    "\n",
    "Меня зовут Рустам Муртазин, и я буду делать ревью проектной работы по предобработке данных. Давай будем общаться на **«ты»**. Если это неприемлемо, обязательно напиши мне в комментариях — мы перейдем на **«вы»**.\n",
    "\n",
    "Проверяя работу, я оставил комментарии. Обрати внимание в первую очередь на те, что помечаны <span style=\"color:red\">красным цветом</span>. После их доработки проект будет принят. <span style=\"color:green\">Зеленым цветом</span> отмечены удачные и элегантные решения, на которые можно опираться в будущих проектах. <span style=\"color:orange\">Оранжевым цветом</span> выделено то, что в следующий раз можно сделать по-другому. Ты можешь учесть эти комментарии при выполнении будущих заданий или доработать проект сейчас (однако это не обязательно).\n",
    "\n",
    "Давай работать над проектом в диалоге: если ты **что-то меняешь** в проекте по моим рекомендациям — **пиши об этом**. Выбери для своих комментариев какой-то заметный цвет, так мне будет легче отследить изменения. Пожалуйста, **не перемещай, не изменяй и не удаляй мои комментарии**. Всё это поможет выполнить повторную проверку твоего проекта оперативнее».\n",
    "\n",
    "В целом работа хорошая, видно, что ты старался. Дорабатывай комментарии и отправляй работу на повторное ревью, я буду ждать 😉\n",
    "\n",
    "---"
   ]
  },
  {
   "cell_type": "markdown",
   "metadata": {},
   "source": [
    "<div class=\"alert alert-info\">\n",
    "<strong>Спасибо Руслан, мой цвет синий :))</strong> </div>\n"
   ]
  },
  {
   "cell_type": "code",
   "execution_count": 1,
   "metadata": {},
   "outputs": [
    {
     "ename": "NameError",
     "evalue": "name 'hw' is not defined",
     "output_type": "error",
     "traceback": [
      "\u001b[1;31m---------------------------------------------------------------------------\u001b[0m",
      "\u001b[1;31mNameError\u001b[0m                                 Traceback (most recent call last)",
      "\u001b[1;32m<ipython-input-1-ee26886b1db7>\u001b[0m in \u001b[0;36m<module>\u001b[1;34m\u001b[0m\n\u001b[1;32m----> 1\u001b[1;33m \u001b[0mhw\u001b[0m\u001b[1;33m.\u001b[0m\u001b[0mdescribe\u001b[0m\u001b[1;33m(\u001b[0m\u001b[1;33m)\u001b[0m \u001b[1;31m# Изучим числовые характеристики: std стандартное отклонение\u001b[0m\u001b[1;33m\u001b[0m\u001b[1;33m\u001b[0m\u001b[0m\n\u001b[0m",
      "\u001b[1;31mNameError\u001b[0m: name 'hw' is not defined"
     ]
    }
   ],
   "source": [
    "#hw.describe() # Изучим числовые характеристики: std стандартное отклонение"
   ]
  },
  {
   "cell_type": "markdown",
   "metadata": {},
   "source": [
    "<div class=\"alert alert-info\">\n",
    "<strong>std - стандартное отклонение https://praktikum.yandex.ru/trainer/data-analyst/lesson/77c3ba61-6e40-459c-95e5-27fa510b1519/task/feb76b1d-80c8-4342-84eb-b033b915e2f1/</strong> </div>"
   ]
  },
  {
   "cell_type": "markdown",
   "metadata": {},
   "source": [
    "## Исследование надёжности заёмщиков\n",
    "\n",
    "Заказчик — кредитный отдел банка. Нужно разобраться, влияет ли семейное положение и количество детей клиента на факт погашения кредита в срок. Входные данные от банка — статистика о платёжеспособности клиентов.\n",
    "\n",
    "Результаты исследования будут учтены при построении модели **кредитного скоринга** — специальной системы, которая оценивает способность потенциального заёмщика вернуть кредит банку."
   ]
  },
  {
   "cell_type": "markdown",
   "metadata": {},
   "source": [
    "### Шаг 1. Откройте файл с данными и изучите общую информацию. "
   ]
  },
  {
   "cell_type": "code",
   "execution_count": 3,
   "metadata": {},
   "outputs": [
    {
     "ename": "ModuleNotFoundError",
     "evalue": "No module named 'pymystem3'",
     "output_type": "error",
     "traceback": [
      "\u001b[1;31m---------------------------------------------------------------------------\u001b[0m",
      "\u001b[1;31mModuleNotFoundError\u001b[0m                       Traceback (most recent call last)",
      "\u001b[1;32m<ipython-input-3-f0a3b4fda2ad>\u001b[0m in \u001b[0;36m<module>\u001b[1;34m\u001b[0m\n\u001b[0;32m      1\u001b[0m \u001b[1;32mimport\u001b[0m \u001b[0mpandas\u001b[0m \u001b[1;32mas\u001b[0m \u001b[0mpd\u001b[0m\u001b[1;33m\u001b[0m\u001b[1;33m\u001b[0m\u001b[0m\n\u001b[0;32m      2\u001b[0m \u001b[1;32mfrom\u001b[0m \u001b[0mIPython\u001b[0m\u001b[1;33m.\u001b[0m\u001b[0mdisplay\u001b[0m \u001b[1;32mimport\u001b[0m \u001b[0mdisplay\u001b[0m\u001b[1;33m\u001b[0m\u001b[1;33m\u001b[0m\u001b[0m\n\u001b[1;32m----> 3\u001b[1;33m \u001b[1;32mfrom\u001b[0m \u001b[0mpymystem3\u001b[0m \u001b[1;32mimport\u001b[0m \u001b[0mMystem\u001b[0m\u001b[1;33m\u001b[0m\u001b[1;33m\u001b[0m\u001b[0m\n\u001b[0m\u001b[0;32m      4\u001b[0m \u001b[1;32mfrom\u001b[0m \u001b[0mcollections\u001b[0m \u001b[1;32mimport\u001b[0m \u001b[0mCounter\u001b[0m\u001b[1;33m\u001b[0m\u001b[1;33m\u001b[0m\u001b[0m\n\u001b[0;32m      5\u001b[0m \u001b[1;33m\u001b[0m\u001b[0m\n",
      "\u001b[1;31mModuleNotFoundError\u001b[0m: No module named 'pymystem3'"
     ]
    }
   ],
   "source": [
    "import pandas as pd\n",
    "from IPython.display import display\n",
    "from pymystem3 import Mystem\n",
    "from collections import Counter\n",
    "\n",
    "data = pd.read_csv('/datasets/data.csv')\n",
    "\n",
    "#print(data.head()) #смотрим голову\n",
    "#print('_____________________')\n",
    "#print(data.tail(5)) # смотрим хвостъ\n",
    "#print(data.info()) # смотрим инфу о элементах\n",
    "#print(data.columns) # смотрим заголовки столбцов на пробелы\n",
    "#print(data.isnull().sum()) # смотрим количество пропушенных значений и где они находятся\n",
    "#print(data.isna().sum()) # тоже смотрим количество пропушенных значений и где они находятся\n",
    "data # посмотреть всю базу целиком"
   ]
  },
  {
   "cell_type": "markdown",
   "metadata": {},
   "source": [
    "### Вывод"
   ]
  },
  {
   "cell_type": "markdown",
   "metadata": {},
   "source": [
    "Обнаружены пропуски в столбцах days_employed и total_income, их количества равны.  Возможно люди никогда не работали и на получали доход. Но это вывод предварительный далее оценим эту мысль точнее \n",
    "В столбцах days_employed и total_income содержаться данные вещественного типа (float), а должны быть целочисленные тк врядли зарплата указывается до ста тысячных долей рубля и отработанные дни тоже"
   ]
  },
  {
   "cell_type": "markdown",
   "metadata": {},
   "source": [
    "### Шаг 2. Предобработка данных"
   ]
  },
  {
   "cell_type": "markdown",
   "metadata": {},
   "source": [
    "### Обработка пропусков"
   ]
  },
  {
   "cell_type": "markdown",
   "metadata": {},
   "source": [
    "#### Отсортируем значения чтобы посмотреть позиции содержащие пропуски сортируем столбец по убыванию"
   ]
  },
  {
   "cell_type": "code",
   "execution_count": null,
   "metadata": {},
   "outputs": [],
   "source": [
    "data.sort_values(by = 'days_employed', ascending = False).tail(15) \n"
   ]
  },
  {
   "cell_type": "markdown",
   "metadata": {},
   "source": [
    "**Обнаружены пропуски в столбцах days_employed и total_income, их количества равны. Возможно люди никогда не работали и на получали доход.Люди имеюшие пропуски в столбцах days_employed- общий трудовой стаж в днях и total_income-ежемесячный доход старше 18 лет,поэтому врядли они нигде не работали и не получали зарплату скорее всего мы имеем дело с ошибкой ввода данных.\n",
    "Заполним пропуски медианным значением**\n"
   ]
  },
  {
   "cell_type": "markdown",
   "metadata": {},
   "source": [
    "#### Также обнаружены отрицательные значения в столбце  days_employed- общий трудовой стаж, скорее всего ошибка внесения , преобразуем их в положительные тк они могут повлиять на медиану."
   ]
  },
  {
   "cell_type": "code",
   "execution_count": null,
   "metadata": {},
   "outputs": [],
   "source": [
    "data['days_employed'] = data['days_employed'].apply(abs) # убираем отрицательные значения\n",
    "data"
   ]
  },
  {
   "cell_type": "markdown",
   "metadata": {},
   "source": [
    "**Были обнаружены отрицательные значения в количестве детей и так как я считаю что это ошибка внесения данных оператором так же приводим их к положительному значению**"
   ]
  },
  {
   "cell_type": "code",
   "execution_count": null,
   "metadata": {},
   "outputs": [],
   "source": [
    "data['children'] = data['children'].apply(abs)"
   ]
  },
  {
   "cell_type": "markdown",
   "metadata": {},
   "source": [
    "**Проверяем максимальное количество детей**"
   ]
  },
  {
   "cell_type": "code",
   "execution_count": null,
   "metadata": {},
   "outputs": [],
   "source": [
    "print(data['children'].max())"
   ]
  },
  {
   "cell_type": "markdown",
   "metadata": {},
   "source": [
    "**Вычисляем количество значений где количество детей 20**"
   ]
  },
  {
   "cell_type": "code",
   "execution_count": null,
   "metadata": {},
   "outputs": [],
   "source": [
    "# count_child = data.pivot_table(index = ['children'], values = 'debt', aggfunc = ['count'])\n",
    "# print(count_child)\n",
    "print (len(data[data['children'] == 20]))"
   ]
  },
  {
   "cell_type": "markdown",
   "metadata": {},
   "source": [
    "**Я думаю это ошибка вноса данных вместо 2 внесено 20 , меням 20 на 2**"
   ]
  },
  {
   "cell_type": "code",
   "execution_count": null,
   "metadata": {},
   "outputs": [],
   "source": [
    "data.loc[data['children'] == 20, 'children'] = 2\n",
    "\n",
    "# проверяем\n",
    "\n",
    "print (len(data[data['children'] == 20]))"
   ]
  },
  {
   "cell_type": "markdown",
   "metadata": {},
   "source": [
    "**Вычисляем медиану столбца days_employed- общий трудовой стаж и total_income**"
   ]
  },
  {
   "cell_type": "code",
   "execution_count": null,
   "metadata": {},
   "outputs": [],
   "source": [
    "print(data['days_employed'].median())"
   ]
  },
  {
   "cell_type": "code",
   "execution_count": null,
   "metadata": {},
   "outputs": [],
   "source": [
    "print(data['total_income'].median())"
   ]
  },
  {
   "cell_type": "markdown",
   "metadata": {},
   "source": [
    "#### Проверим уровень максимального трудового стажа? сортируем столбец по убыванию"
   ]
  },
  {
   "cell_type": "code",
   "execution_count": null,
   "metadata": {},
   "outputs": [],
   "source": [
    "data.sort_values(by = 'days_employed', ascending = False).head(15) "
   ]
  },
  {
   "cell_type": "markdown",
   "metadata": {},
   "source": [
    "**или просто берем максимальные и минимальные элементы в столбце**"
   ]
  },
  {
   "cell_type": "code",
   "execution_count": null,
   "metadata": {},
   "outputs": [],
   "source": [
    "print(data['days_employed'].max())\n",
    "print(data['days_employed'].min())"
   ]
  },
  {
   "cell_type": "markdown",
   "metadata": {},
   "source": [
    "**Существование стажа в 1 тысчу лет маловероятно, наличие таких цир связано скорее всего с технической ошибкой , возможно обьеденили 2 базы в одной из которых стаж считался в часах или минутах поэтому всплески на медианные значения\n",
    "Средняя продолжительность жизни мужчин в 2019 году в России составила 68,5 лет. Для женщин показатель еще выше — 78,5 лет\n",
    "возьмем максимальное значение для замены на медиану 70 лет стажа это 25550 дней**"
   ]
  },
  {
   "cell_type": "code",
   "execution_count": null,
   "metadata": {},
   "outputs": [],
   "source": [
    "data.loc[data['days_employed'] > 25550, 'days_employed'] = data['days_employed'].median()\n",
    "data.sort_values(by = 'days_employed', ascending = False).head(15) "
   ]
  },
  {
   "cell_type": "markdown",
   "metadata": {},
   "source": [
    "#### Также меняем все пропущенные значения в days_employed- общий трудовой стаж в днях и total_income-ежемесячный доход на медианы этих столбцов"
   ]
  },
  {
   "cell_type": "code",
   "execution_count": null,
   "metadata": {},
   "outputs": [],
   "source": [
    "data['days_employed'] = data['days_employed'].fillna(data['days_employed'].median()) # заменяем пропущенные значения в столбце days_employed(отработанные дни)\n",
    "# на 0\n",
    "#data['total_income'] = data['total_income'].fillna(data['total_income'].median()) # заменяем пропущенные значения в столбце total_income — ежемесячный доход\n",
    "# на 0\n",
    "print(data.isnull().sum()) # проверяем смотрим количество пропушенных значений и где они находятся\n",
    "# print(data.info()) # еще раз проверяеv\n",
    "display('Пустые до', data['total_income'].isnull().sum())"
   ]
  },
  {
   "cell_type": "markdown",
   "metadata": {},
   "source": [
    "<div class=\"alert alert-danger\">\n",
    "<h2> Комментарий ревюера </h2>\n",
    "\n",
    "Здорово, что ты обрабатываешь пропущенные значения, и используешь для замены медианное значение. Однако ты используешь для всех пропусков одно значение, т.е, например, если есть пропуски в столбце «Доходы в месяц» (total_income) у пенсионера и предпринимателя, ты прописываешь им один и тот же доход. Дай свои комментарии и попробуй заменить пропуски более детально 😉 \n",
    "\n",
    "</div>"
   ]
  },
  {
   "cell_type": "markdown",
   "metadata": {},
   "source": [
    "<div class=\"alert alert-info\">\n",
    "<strong>Спасибо за похвалу :)) Пробую вычислить медианы зарплат для кажного типа заемщиков</strong> </div>"
   ]
  },
  {
   "cell_type": "markdown",
   "metadata": {},
   "source": [
    "<div class=\"alert alert-info\">\n",
    "<strong>Смотрим категории заемщиков и пропуски</strong> </div>"
   ]
  },
  {
   "cell_type": "code",
   "execution_count": null,
   "metadata": {},
   "outputs": [],
   "source": [
    "display(data['income_type'].value_counts())\n",
    "#data_null_income = data.pivot_table(index = ['income_type'], values = 'total_income', aggfunc = [value_counts, isna])\n",
    "#data_null_income = data.groupby('income_type').agg({'total_income':'isna'})\n",
    "#print(data_null_income)"
   ]
  },
  {
   "cell_type": "markdown",
   "metadata": {},
   "source": [
    "<div class=\"alert alert-info\">\n",
    "    <strong>Смотрим пропуски по типу занятости, может быть они одинаковы для всех и это ошибка , но если нет , чтобы не обрабатывать лишние значения\n",
    "    Выявленная сума пропусков совпадает с data['total_income'].isnull().sum()</strong> </div>\n"
   ]
  },
  {
   "cell_type": "code",
   "execution_count": null,
   "metadata": {},
   "outputs": [],
   "source": [
    "#print(data.info())\n",
    "#data['total_income'] = data['total_income'].astype(int)\n",
    "#print(data.info())\n",
    "print('пенсионер',data.loc[data['income_type'] == 'пенсионер', 'total_income'].isna().value_counts())\n",
    "print('сотрудник',data.loc[data['income_type'] == 'сотрудник', 'total_income'].isna().value_counts())\n",
    "print('компаньон',data.loc[data['income_type'] == 'компаньон', 'total_income'].isna().value_counts())\n",
    "print('госслужащий',data.loc[data['income_type'] == 'госслужащий', 'total_income'].isna().value_counts())\n",
    "print('предприниматель',data.loc[data['income_type'] == 'предприниматель', 'total_income'].isna().value_counts())\n",
    "print('безработный',data.loc[data['income_type'] == 'безработный', 'total_income'].isna().value_counts())\n",
    "print('в декрете',data.loc[data['income_type'] == 'в декрете', 'total_income'].isna().value_counts())\n",
    "print('студент',data.loc[data['income_type'] == 'студент', 'total_income'].isna().value_counts())"
   ]
  },
  {
   "cell_type": "markdown",
   "metadata": {},
   "source": [
    "\n",
    "<div class=\"alert alert-info\">\n",
    "    <strong>Вычисляем медиану для каждой категории заемщиков. . Меняем пропуски в total_income == ....... на  медиану по категориям</strong> </div>"
   ]
  },
  {
   "cell_type": "code",
   "execution_count": null,
   "metadata": {},
   "outputs": [],
   "source": [
    "#display('пенсионер',data.loc[data['income_type'] == 'пенсионер', 'total_income'].median())\n",
    "#display('сотрудник',data.loc[data['income_type'] == 'сотрудник', 'total_income'].median())\n",
    "display('Пустые до', data['total_income'].isnull().sum())\n",
    "\n",
    "for _type in data['income_type'].unique():\n",
    "    median = data.loc[data['income_type'] == _type, 'total_income'].median()\n",
    "    print('Медианная зарплата {} {:.2f}'.format(_type, median))\n",
    "    data.loc[(data['total_income'].isna()) & (data['income_type'] == _type), 'total_income'] = median\n",
    "\n",
    "display('Пустые после', data['total_income'].isnull().sum())    "
   ]
  },
  {
   "cell_type": "markdown",
   "metadata": {},
   "source": [
    "#### Еще раз проверяем"
   ]
  },
  {
   "cell_type": "code",
   "execution_count": null,
   "metadata": {},
   "outputs": [],
   "source": [
    "#data.sort_values(by = 'days_employed', ascending = False).tail(15)\n",
    "data.sort_values(by = 'total_income', ascending = False).tail(100) "
   ]
  },
  {
   "cell_type": "markdown",
   "metadata": {},
   "source": [
    "### Вывод"
   ]
  },
  {
   "cell_type": "markdown",
   "metadata": {},
   "source": [
    "**Заменяем пропущенные данные столбцов days_employed — общий трудовой стаж в днях и total_income — ежемесячный доход  на медиану столбца, так как это возможно реальные клиенты с реальными показателями, Существование стажа в 1 тысчу лет маловероятно, наличие таких цир связано скорее всего с технической ошибкой , возможно обьеденили 2 базы в одной из которых стаж считался в часах или минутах поэтому так же как и пропуски меняем всплески на медианные значения**\n"
   ]
  },
  {
   "cell_type": "markdown",
   "metadata": {},
   "source": [
    "### Замена типа данных"
   ]
  },
  {
   "cell_type": "markdown",
   "metadata": {},
   "source": [
    "#### Меняем тип данных  в столбцах data['days_employed'] и data['total_income'] с float на int"
   ]
  },
  {
   "cell_type": "code",
   "execution_count": null,
   "metadata": {},
   "outputs": [],
   "source": [
    "data['days_employed'] = data['days_employed'].astype(int) # меняем в столбце data['days_employed'] \n",
    "#вещественый тип float64 на int64\n",
    "data['total_income'] = data['total_income'].astype(int) # меняем в столбце data['days_employed']\n",
    "print(data.info())\n",
    "#data[data.duplicated(keep = False)].sort_values(by = data.columns.values.tolist())\n"
   ]
  },
  {
   "cell_type": "markdown",
   "metadata": {},
   "source": [
    "#### Еще метод Он превращает значения столбца в числовые типы float64 (вещественное число) или int64 (целое число) в зависимости от исходного значения.\n",
    "У метода to_numeric() есть параметр errors. \n",
    "От значений, принимаемых errors, зависят действия to_numeric при встрече с некорректным значением:\n",
    "`errors=raise' — дефолтное поведение: при встрече с некорректным значением выдаётся ошибка, операция перевода в числа прерывается  \n",
    "`errors=coerce` — некорректные значения принудительно заменяются на NaN  \n",
    "`errors=ignore` — некорректные значения игнорируются, но остаются  \n",
    "https://praktikum.yandex.ru/trainer/data-analyst/lesson/208f2480-b9b2-4da3-bb77-2269882bdda5/task/11d58dfe-e6c3-46a9-929a-bdd252a53420/"
   ]
  },
  {
   "cell_type": "code",
   "execution_count": null,
   "metadata": {},
   "outputs": [],
   "source": [
    "#transactions['amount'] = pd.to_numeric(transactions['amount'], errors='coerce')"
   ]
  },
  {
   "cell_type": "markdown",
   "metadata": {},
   "source": [
    "### Вывод"
   ]
  },
  {
   "cell_type": "markdown",
   "metadata": {},
   "source": [
    "**В столбцах days_employed и total_income содержаться данные вещественного типа (float), а должны быть целочисленные тк врядли зарплата указывается до ста тысячных долей рубля и отработанные дни тоже\n",
    "использован метод astype**"
   ]
  },
  {
   "cell_type": "markdown",
   "metadata": {},
   "source": [
    "### Обработка дубликатов"
   ]
  },
  {
   "cell_type": "markdown",
   "metadata": {},
   "source": [
    "#### выводим сумму дубликатов"
   ]
  },
  {
   "cell_type": "code",
   "execution_count": null,
   "metadata": {},
   "outputs": [],
   "source": [
    "#print(data.duplicated())\n",
    "# print('________________________________')\n",
    "print(data.duplicated().sum())\n",
    "data"
   ]
  },
  {
   "cell_type": "markdown",
   "metadata": {},
   "source": [
    "#### Чтобы посмотреть все дубли можно сделать вот так. keep = False значит \"оставь все дубликаты\". \n",
    "**По умолчанию duplicated оставляет только первые совпадения.**"
   ]
  },
  {
   "cell_type": "code",
   "execution_count": null,
   "metadata": {},
   "outputs": [],
   "source": [
    "#print(data[data.duplicted(keep = False)].sort_values(by = data.columns.values.tolist()))"
   ]
  },
  {
   "cell_type": "markdown",
   "metadata": {},
   "source": [
    "<div class=\"alert alert-info\" role=\"alert\">\n",
    "<strong>Ок проверим тип `object`</strong> </div>\n"
   ]
  },
  {
   "cell_type": "code",
   "execution_count": null,
   "metadata": {},
   "outputs": [],
   "source": [
    "display(data['education'].value_counts())\n",
    "print('__________________________________')\n",
    "display(data['family_status'].value_counts())\n",
    "print('__________________________________')\n",
    "display(data['income_type'].value_counts())\n",
    "print('__________________________________')\n",
    "display(data['purpose'].value_counts())\n"
   ]
  },
  {
   "cell_type": "markdown",
   "metadata": {},
   "source": [
    "<div class=\"alert alert-info\">\n",
    "<strong>Да действительно в образовании и семейном положении регистр гуляет, что повлияет на дальнейшую\n",
    "обработку и анализ данных приводим всё к нижнему регистру </strong> </div>"
   ]
  },
  {
   "cell_type": "code",
   "execution_count": null,
   "metadata": {},
   "outputs": [],
   "source": [
    "data['education'] = data['education'].str.lower()\n",
    "data['family_status'] = data['family_status'].str.lower()"
   ]
  },
  {
   "cell_type": "markdown",
   "metadata": {},
   "source": [
    "<div class=\"alert alert-info\">\n",
    "<strong>проверяем все ли изменилось</strong> </div>"
   ]
  },
  {
   "cell_type": "code",
   "execution_count": null,
   "metadata": {},
   "outputs": [],
   "source": [
    "display(data['education'].value_counts())\n",
    "print('__________________________________')\n",
    "display(data['family_status'].value_counts())"
   ]
  },
  {
   "cell_type": "markdown",
   "metadata": {},
   "source": [
    "<div class=\"alert alert-info\">\n",
    "    <strong>да , все в порядке</strong> </div>"
   ]
  },
  {
   "cell_type": "markdown",
   "metadata": {},
   "source": [
    "#### удаляем дубликаты"
   ]
  },
  {
   "cell_type": "code",
   "execution_count": null,
   "metadata": {},
   "outputs": [],
   "source": [
    "data = data.drop_duplicates().reset_index(drop=True)"
   ]
  },
  {
   "cell_type": "markdown",
   "metadata": {},
   "source": [
    "<div class=\"alert alert-danger\">\n",
    "<h2> Комментарий ревюера</h2>\n",
    "\n",
    "Ты очень классно проанализировал столбцы с типом данных `int` и `float`. Однако у тебя ничего не сказано про столбцы с типом данных `object`. А они, скорее всего, влияют на кол-во дубликатов. Посмотри пожалуйста на них внимательнее, возможно в них также есть странные значения или их нужно перевести к общему виду (к верхнему/нижнему регистру)\n",
    "\n",
    "</div>"
   ]
  },
  {
   "cell_type": "markdown",
   "metadata": {},
   "source": [
    "<div class=\"alert alert-info\">\n",
    "<strong>Да действительно в образовании и семейном положении регистр гуляет, что повлияет на дальнейшую\n",
    "обработку и анализ данных приводим всё к нижнему регистру </strong> </div>"
   ]
  },
  {
   "cell_type": "markdown",
   "metadata": {},
   "source": [
    "#### проверяем удаление"
   ]
  },
  {
   "cell_type": "code",
   "execution_count": null,
   "metadata": {},
   "outputs": [],
   "source": [
    "print(data.duplicated().sum()) # проверяем удалились ли дубликаты\n",
    "#:\n",
    "print(data[data.duplicated(keep = False)].sort_values(by = data.columns.values.tolist()))\n",
    "data\n"
   ]
  },
  {
   "cell_type": "markdown",
   "metadata": {},
   "source": [
    "### Вывод"
   ]
  },
  {
   "cell_type": "markdown",
   "metadata": {},
   "source": [
    "**Дубликаты найдены, но вопрос в том стоит ли их удалять мб это совпадения реальных клиентов, а может быть и нет. Но я думаю что при таком количестве различных данных для каждого клиента реальные совпадения врядли возможны, поэтому удалил дубликаты. Причина возникновения , возможно ошибка оператора который их вносил. Либо если обьеденялись несколько баз в одну были внесены одни и теже клиенты. Также обнаружены внесения данных в разных регистрах**"
   ]
  },
  {
   "cell_type": "markdown",
   "metadata": {},
   "source": [
    "### Лемматизация"
   ]
  },
  {
   "cell_type": "markdown",
   "metadata": {},
   "source": [
    "#### импортируем библиотеки"
   ]
  },
  {
   "cell_type": "code",
   "execution_count": null,
   "metadata": {},
   "outputs": [],
   "source": [
    "m = Mystem()\n",
    "lemmas = m.lemmatize(data['purpose'][3])\n",
    "print(lemmas)\n",
    "print(len(data['purpose']))"
   ]
  },
  {
   "cell_type": "markdown",
   "metadata": {},
   "source": [
    "<div class=\"alert alert-warning\">\n",
    "<h2> Комментарий ревюера</h2>\n",
    "\n",
    "При анализе данных хорошим тоном является вынос импортирование всех библиотек в начало, т.е прописать импортирование всех библиотек в отдельной ячейке. Это позволяет сразу видеть, что используется при анализе и снижает риск возникновения ошибки. \n",
    "\n",
    "</div>"
   ]
  },
  {
   "cell_type": "markdown",
   "metadata": {},
   "source": [
    "#### берем только уникальные значения без дубликатов , уменьшаем размер списка"
   ]
  },
  {
   "cell_type": "code",
   "execution_count": null,
   "metadata": {},
   "outputs": [],
   "source": [
    "uniq_purpose = data['purpose'].unique()\n",
    "print(uniq_purpose)\n",
    "#print(data['purpose'])\n"
   ]
  },
  {
   "cell_type": "markdown",
   "metadata": {},
   "source": [
    "#### преобразуем массив в питоновский лист"
   ]
  },
  {
   "cell_type": "code",
   "execution_count": null,
   "metadata": {},
   "outputs": [],
   "source": [
    "uniq_purpose = uniq_purpose.tolist()\n",
    "print(uniq_purpose)"
   ]
  },
  {
   "cell_type": "markdown",
   "metadata": {},
   "source": [
    "#### Функция для Лемматизации элементов массива uniq_purpose, используем extend вместо append и формируем переменную а не массив,\n",
    "еще ---- m.lemmatize(' '.join(data['purpose'])) рекомендован еще такой вариант"
   ]
  },
  {
   "cell_type": "markdown",
   "metadata": {},
   "source": [
    "<div class=\"alert alert-success\">\n",
    "<h2> Комментарий ревюера</h2>\n",
    "\n",
    "Extend — отличный выбор 👏\n",
    "\n",
    "</div>"
   ]
  },
  {
   "cell_type": "code",
   "execution_count": null,
   "metadata": {},
   "outputs": [],
   "source": [
    "uniq_purpose_lemm = []\n",
    "for i in uniq_purpose:\n",
    "    uniq_purpose_lemm.extend(m.lemmatize(i))\n",
    "    print(uniq_purpose_lemm)    "
   ]
  },
  {
   "cell_type": "markdown",
   "metadata": {},
   "source": [
    "<div class=\"alert alert-warning\">\n",
    "<h2> Комментарий ревюера</h2>\n",
    "\n",
    "Я бы здесь лучше прошел по всему столбцу, а не только по уникальным значениям. Так можно посмотреть насколько лемма часто встречается во всем датасете, а не только в уникальныз значениях\n",
    "\n",
    "</div>"
   ]
  },
  {
   "cell_type": "markdown",
   "metadata": {},
   "source": [
    "<div class=\"alert alert-info\">\n",
    "    <strong>Виснет Юпитер на Counter(uniq_purpose_lemm), видимо слишком большой обьем данных</strong> </div>"
   ]
  },
  {
   "cell_type": "markdown",
   "metadata": {},
   "source": [
    "#### подсчёт числа их упоминаний в тексте"
   ]
  },
  {
   "cell_type": "code",
   "execution_count": null,
   "metadata": {},
   "outputs": [],
   "source": [
    "print(Counter(uniq_purpose_lemm))"
   ]
  },
  {
   "cell_type": "markdown",
   "metadata": {},
   "source": [
    "**наиболее частые слова**\n",
    "**образование недвижимость автомобиль жилье свадьба**"
   ]
  },
  {
   "cell_type": "markdown",
   "metadata": {},
   "source": [
    "#### Функция для Лемматизации столбца data['purpose'] и меняем содержимое на леммы"
   ]
  },
  {
   "cell_type": "code",
   "execution_count": null,
   "metadata": {},
   "outputs": [],
   "source": [
    "data # проверяем таблицу"
   ]
  },
  {
   "cell_type": "code",
   "execution_count": null,
   "metadata": {},
   "outputs": [],
   "source": [
    "def lemm_purpose(row):\n",
    "    if 'недвижимость' in m.lemmatize(row):\n",
    "        return 'недвижимость'\n",
    "           \n",
    "    if 'автомобиль' in m.lemmatize(row):\n",
    "        return 'автомобиль'\n",
    "            \n",
    "    if 'жилье' in m.lemmatize(row):\n",
    "        return 'жилье'\n",
    "            \n",
    "    if 'свадьба' in m.lemmatize(row):\n",
    "        return 'свадьба'\n",
    "    \n",
    "    if 'образование' in m.lemmatize(row):\n",
    "        return 'образование'\n",
    "             \n",
    "    else: return 'другое'         \n",
    "      \n"
   ]
  },
  {
   "cell_type": "markdown",
   "metadata": {},
   "source": [
    "#### применяем к столбцу data['purpose']  и проверяем"
   ]
  },
  {
   "cell_type": "code",
   "execution_count": null,
   "metadata": {},
   "outputs": [],
   "source": [
    "data['purpose'] = data['purpose'].apply(lemm_purpose)\n",
    "data"
   ]
  },
  {
   "cell_type": "markdown",
   "metadata": {},
   "source": [
    "### Вывод"
   ]
  },
  {
   "cell_type": "markdown",
   "metadata": {},
   "source": [
    "**Данные столбца data['purpose'] лемматизированы, цели для удобства сортировки отражены одним словом**"
   ]
  },
  {
   "cell_type": "markdown",
   "metadata": {},
   "source": [
    "### Категоризация данных"
   ]
  },
  {
   "cell_type": "markdown",
   "metadata": {},
   "source": [
    "#### Проводим категоризацию данных согласно заданию\n",
    "####  Делаем сводную таблицу: влияние  количество детей клиента на факт погашения кредита\n",
    "**Bстроим строку с процентами кто имел задолжность количество детей клиента  факт погашения кредита**"
   ]
  },
  {
   "cell_type": "code",
   "execution_count": null,
   "metadata": {},
   "outputs": [],
   "source": [
    "data_child = data.pivot_table(index = ['children'], values = 'debt', aggfunc = [sum, 'count'])\n",
    "#data_child = data.groupby(['children',]).agg({'debt':'sum','children':'count'})\n",
    "data_child['%_total_debt'] = (data_child ['sum','debt']/data_child ['count','debt'])\n",
    "#data_child.columns = ['Кол-во невозвратов','Кол-во заемщиков','% невозврата']\n",
    "data_child.style.format({'% невозврата':'{:.2%}'})\n",
    "#print(data_child)"
   ]
  },
  {
   "cell_type": "markdown",
   "metadata": {},
   "source": [
    "####  Делаем сводную таблицу *семейное положение * - факт погашения кредита Bстроим строку с процентами кто имел задолжность *семейное положение * - факт погашения кредита "
   ]
  },
  {
   "cell_type": "code",
   "execution_count": null,
   "metadata": {},
   "outputs": [],
   "source": [
    "data_family = data.groupby('family_status').agg({'debt':'sum', 'family_status':'count'})\n",
    "data_family['%_total_debt'] = (data_family['debt']/data_family['family_status'])\n",
    "data_family.columns = ['Кол-во невозвратов','Кол-во заемщиков','% невозврата']\n",
    "data_family.style.format({'% невозврата':'{:.2%}'})\n",
    "#print(data_family)"
   ]
  },
  {
   "cell_type": "markdown",
   "metadata": {},
   "source": [
    "### Сделаем общую сводную таблицу c процентами"
   ]
  },
  {
   "cell_type": "code",
   "execution_count": null,
   "metadata": {},
   "outputs": [],
   "source": [
    "data_child_family = data.groupby(['children', 'family_status']).agg({'debt':'sum', 'family_status':'count'})\n",
    "data_child_family['%_total_debt'] = (data_child_family['debt']/data_child_family['family_status'])*100\n",
    "data_child_family.columns = ['Кол. невозвр','Кол-во заемщиков','% невозврата']\n",
    "#data_child_family.format({'Процент невозврата':'{:.2%}'})\n",
    "display(data_child_family)"
   ]
  },
  {
   "cell_type": "markdown",
   "metadata": {},
   "source": [
    "<div class=\"alert alert-warning\">\n",
    "<h2> Комментарий ревьюера</h2>\n",
    "\n",
    "Рекомендую не применять метод `print()` для вывода таблиц. Лучше импортировать в\n",
    "начале проекта метод `display` из библиотеки `IPython.display` и\n",
    "применять его:\n",
    "\n",
    "---\n",
    "    \n",
    "`from IPython.display import display`\n",
    "\n",
    "`display(df)`\n",
    "\n",
    "    \n",
    "</div>"
   ]
  },
  {
   "cell_type": "markdown",
   "metadata": {},
   "source": [
    "<div class=\"alert alert-info\">\n",
    "    <strong>Здорово, так гораздо нагляднее, спасибо :))</strong> </div>"
   ]
  },
  {
   "cell_type": "markdown",
   "metadata": {},
   "source": [
    "### Есть ли зависимость между уровнем дохода и возвратом кредита в срок?\n",
    "**установим уровни дохода средний высокий низкий**"
   ]
  },
  {
   "cell_type": "code",
   "execution_count": null,
   "metadata": {},
   "outputs": [],
   "source": [
    "print(data['total_income'].max())"
   ]
  },
  {
   "cell_type": "code",
   "execution_count": null,
   "metadata": {},
   "outputs": [],
   "source": [
    "print(data['total_income'].min())"
   ]
  },
  {
   "cell_type": "code",
   "execution_count": null,
   "metadata": {},
   "outputs": [],
   "source": [
    "print(data['total_income'].median())"
   ]
  },
  {
   "cell_type": "markdown",
   "metadata": {},
   "source": [
    "#### Пробуем найти кретерии для определения уровня зарплат  \n",
    "* **от 0 до 33% уровня  низкая зарплата**\n",
    "* **между 33% и 66% средняя зарплата**\n",
    "* **66% и выше высокая зарплата**"
   ]
  },
  {
   "cell_type": "code",
   "execution_count": null,
   "metadata": {},
   "outputs": [],
   "source": [
    "data_int_profit = data['total_income'].sort_values(ascending = False)\n",
    "data_int_profit.quantile([0.33, 0.66])"
   ]
  },
  {
   "cell_type": "markdown",
   "metadata": {},
   "source": [
    "**Делаем функцию разграничиваем уровень зарплат**"
   ]
  },
  {
   "cell_type": "code",
   "execution_count": null,
   "metadata": {},
   "outputs": [],
   "source": [
    "def level_earn(row):\n",
    "    if row < 122202:\n",
    "        return 'Низкий уровень зарплаты'\n",
    "    if 122202 <= row <= 169221:\n",
    "        return 'Средний уровень зарплаты'\n",
    "    if row > 169221:\n",
    "        return 'Высокий уровень зарплаты'\n",
    "      "
   ]
  },
  {
   "cell_type": "markdown",
   "metadata": {},
   "source": [
    "**Меняем цифры в столбце**"
   ]
  },
  {
   "cell_type": "code",
   "execution_count": null,
   "metadata": {},
   "outputs": [],
   "source": [
    "data['total_income'] = data['total_income'].apply(level_earn)\n",
    "data"
   ]
  },
  {
   "cell_type": "markdown",
   "metadata": {},
   "source": [
    "#### Сделаем общую сводную таблицу c процентами"
   ]
  },
  {
   "cell_type": "code",
   "execution_count": 2,
   "metadata": {},
   "outputs": [
    {
     "ename": "NameError",
     "evalue": "name 'data' is not defined",
     "output_type": "error",
     "traceback": [
      "\u001b[1;31m---------------------------------------------------------------------------\u001b[0m",
      "\u001b[1;31mNameError\u001b[0m                                 Traceback (most recent call last)",
      "\u001b[1;32m<ipython-input-2-491afcee00d5>\u001b[0m in \u001b[0;36m<module>\u001b[1;34m\u001b[0m\n\u001b[1;32m----> 1\u001b[1;33m \u001b[0mdata_profit\u001b[0m \u001b[1;33m=\u001b[0m \u001b[0mdata\u001b[0m\u001b[1;33m.\u001b[0m\u001b[0mgroupby\u001b[0m\u001b[1;33m(\u001b[0m\u001b[1;34m'total_income'\u001b[0m\u001b[1;33m)\u001b[0m\u001b[1;33m.\u001b[0m\u001b[0magg\u001b[0m\u001b[1;33m(\u001b[0m\u001b[1;33m{\u001b[0m\u001b[1;34m'debt'\u001b[0m\u001b[1;33m:\u001b[0m\u001b[1;34m'sum'\u001b[0m\u001b[1;33m,\u001b[0m \u001b[1;34m'total_income'\u001b[0m\u001b[1;33m:\u001b[0m\u001b[1;34m'count'\u001b[0m\u001b[1;33m}\u001b[0m\u001b[1;33m)\u001b[0m\u001b[1;33m\u001b[0m\u001b[1;33m\u001b[0m\u001b[0m\n\u001b[0m\u001b[0;32m      2\u001b[0m \u001b[0mdata_profit\u001b[0m\u001b[1;33m[\u001b[0m\u001b[1;34m'%_total_debt'\u001b[0m\u001b[1;33m]\u001b[0m \u001b[1;33m=\u001b[0m \u001b[1;33m(\u001b[0m\u001b[0mdata_profit\u001b[0m\u001b[1;33m[\u001b[0m\u001b[1;34m'debt'\u001b[0m\u001b[1;33m]\u001b[0m\u001b[1;33m/\u001b[0m\u001b[0mdata_profit\u001b[0m\u001b[1;33m[\u001b[0m\u001b[1;34m'total_income'\u001b[0m\u001b[1;33m]\u001b[0m\u001b[1;33m)\u001b[0m\u001b[1;33m\u001b[0m\u001b[1;33m\u001b[0m\u001b[0m\n\u001b[0;32m      3\u001b[0m \u001b[0mdata_profit\u001b[0m\u001b[1;33m.\u001b[0m\u001b[0mcolumns\u001b[0m \u001b[1;33m=\u001b[0m \u001b[1;33m[\u001b[0m\u001b[1;34m'Кол-во невозвратов'\u001b[0m\u001b[1;33m,\u001b[0m\u001b[1;34m'Кол-во заемщиков'\u001b[0m\u001b[1;33m,\u001b[0m\u001b[1;34m'% невозврата'\u001b[0m\u001b[1;33m]\u001b[0m\u001b[1;33m\u001b[0m\u001b[1;33m\u001b[0m\u001b[0m\n\u001b[0;32m      4\u001b[0m \u001b[0mdata_profit\u001b[0m\u001b[1;33m.\u001b[0m\u001b[0mstyle\u001b[0m\u001b[1;33m.\u001b[0m\u001b[0mformat\u001b[0m\u001b[1;33m(\u001b[0m\u001b[1;33m{\u001b[0m\u001b[1;34m'% невозврата'\u001b[0m\u001b[1;33m:\u001b[0m\u001b[1;34m'{:.2%}'\u001b[0m\u001b[1;33m}\u001b[0m\u001b[1;33m)\u001b[0m\u001b[1;33m\u001b[0m\u001b[1;33m\u001b[0m\u001b[0m\n\u001b[0;32m      5\u001b[0m \u001b[1;31m#display(data_profit)\u001b[0m\u001b[1;33m\u001b[0m\u001b[1;33m\u001b[0m\u001b[1;33m\u001b[0m\u001b[0m\n",
      "\u001b[1;31mNameError\u001b[0m: name 'data' is not defined"
     ]
    }
   ],
   "source": [
    "data_profit = data.groupby('total_income').agg({'debt':'sum', 'total_income':'count'})\n",
    "data_profit['%_total_debt'] = (data_profit['debt']/data_profit['total_income'])\n",
    "data_profit.columns = ['Кол-во невозвратов','Кол-во заемщиков','% невозврата']\n",
    "data_profit.style.format({'% невозврата':'{:.2%}'})\n",
    "#display(data_profit)"
   ]
  },
  {
   "cell_type": "markdown",
   "metadata": {},
   "source": [
    "### Как разные цели кредита влияют на его возврат в срок?"
   ]
  },
  {
   "cell_type": "code",
   "execution_count": null,
   "metadata": {},
   "outputs": [],
   "source": [
    "data_goal = data.pivot_table(index = ['purpose'], values = 'debt', aggfunc = [sum, 'count'])\n",
    "#data_child = data.groupby(['children',]).agg({'debt':'sum','children':'count'})\n",
    "data_goal['%_total_debt'] = (data_goal['sum','debt']/data_goal['count','debt'])\n",
    "data_goal.columns = ['Кол-во невозвратов','Кол-во заемщиков','% невозврата']\n",
    "data_goal.style.format({'% невозврата':'{:.2%}'})\n",
    "#print(data_child)"
   ]
  },
  {
   "cell_type": "markdown",
   "metadata": {},
   "source": [
    "### Вывод"
   ]
  },
  {
   "cell_type": "markdown",
   "metadata": {},
   "source": [
    "**Сводные таблицы сделаны данные представлены в удобном для чтения виде**"
   ]
  },
  {
   "cell_type": "markdown",
   "metadata": {},
   "source": [
    "### Шаг 3. Ответьте на вопросы"
   ]
  },
  {
   "cell_type": "markdown",
   "metadata": {},
   "source": [
    "- Есть ли зависимость между наличием детей и возвратом кредита в срок?"
   ]
  },
  {
   "cell_type": "code",
   "execution_count": null,
   "metadata": {},
   "outputs": [],
   "source": [
    "data_child = data.pivot_table(index = ['children'], values = 'debt', aggfunc = [sum, 'count'])\n",
    "data_child['%_total_debt'] = (data_child ['sum','debt']/data_child ['count','debt'])\n",
    "data_child.columns = ['Кол-во невозвратов','Кол-во заемщиков','% невозврата']\n",
    "data_child.style.format({'% невозврата':'{:.2%}'})\n"
   ]
  },
  {
   "cell_type": "markdown",
   "metadata": {},
   "source": [
    "### Вывод"
   ]
  },
  {
   "cell_type": "markdown",
   "metadata": {},
   "source": [
    "Существует небольшая зависимость между наличием детей и возвратом кредита в срок, люди с детьми допускают просрочки чаще чем люди без детей, но это разница исчезающе мала не исключено что это статистическая погрешность."
   ]
  },
  {
   "cell_type": "markdown",
   "metadata": {},
   "source": [
    "- Есть ли зависимость между семейным положением и возвратом кредита в срок?"
   ]
  },
  {
   "cell_type": "code",
   "execution_count": null,
   "metadata": {},
   "outputs": [],
   "source": [
    "data_family = data.groupby('family_status').agg({'debt':'sum', 'family_status':'count'})\n",
    "data_family['%_total_debt'] = (data_family['debt']/data_family['family_status'])\n",
    "data_family.columns = ['Кол-во невозвратов','Кол-во заемщиков','% невозврата']\n",
    "data_family.style.format({'% невозврата':'{:.2%}'})"
   ]
  },
  {
   "cell_type": "markdown",
   "metadata": {},
   "source": [
    "### Вывод"
   ]
  },
  {
   "cell_type": "markdown",
   "metadata": {},
   "source": [
    "Семейное положение влияет на наличие задолжности по кредитам, не семейные люди чаще допускают просрочки."
   ]
  },
  {
   "cell_type": "markdown",
   "metadata": {},
   "source": [
    "- Есть ли зависимость между уровнем дохода и возвратом кредита в срок?"
   ]
  },
  {
   "cell_type": "code",
   "execution_count": null,
   "metadata": {},
   "outputs": [],
   "source": [
    "data_profit = data.groupby('total_income').agg({'debt':'sum', 'total_income':'count'})\n",
    "data_profit['%_total_debt'] = (data_profit['debt']/data_profit['total_income'])\n",
    "data_profit.columns = ['Кол-во невозвратов','Кол-во заемщиков','% невозврата']\n",
    "data_profit.style.format({'% невозврата':'{:.2%}'})"
   ]
  },
  {
   "cell_type": "markdown",
   "metadata": {},
   "source": [
    "### Вывод"
   ]
  },
  {
   "cell_type": "markdown",
   "metadata": {},
   "source": [
    "Зависимости между уровнем дохода и возвратом кредита в срок практически нет, но тем не менее возможно что люди с высоким уровнем заработной платы допускаю больше просрочем связанно с тем что их финансовое положение позволяет им меньше беспокоится о штрафах и пенях за просрочку, но вполне возможно разница в цифрах является скорее всего статистической погрешностью"
   ]
  },
  {
   "cell_type": "markdown",
   "metadata": {},
   "source": [
    "- Как разные цели кредита влияют на его возврат в срок?"
   ]
  },
  {
   "cell_type": "code",
   "execution_count": null,
   "metadata": {},
   "outputs": [],
   "source": [
    "data_goal = data.pivot_table(index = ['purpose'], values = 'debt', aggfunc = [sum, 'count'])\n",
    "#data_child = data.groupby(['children',]).agg({'debt':'sum','children':'count'})\n",
    "data_goal['%_total_debt'] = (data_goal['sum','debt']/data_goal['count','debt'])\n",
    "data_goal.columns = ['Кол-во невозвратов','Кол-во заемщиков','% невозврата']\n",
    "data_goal.style.format({'% невозврата':'{:.2%}'})\n",
    "#print(data_child)"
   ]
  },
  {
   "cell_type": "markdown",
   "metadata": {},
   "source": [
    "<div class=\"alert alert-success\">\n",
    "<h2> Комментарий ревюера</h2>\n",
    "\n",
    "Здорорво, что ты строишь сводные таблицы разными методами\n",
    "\n",
    "</div>"
   ]
  },
  {
   "cell_type": "markdown",
   "metadata": {},
   "source": [
    "### Вывод"
   ]
  },
  {
   "cell_type": "markdown",
   "metadata": {},
   "source": [
    "Цели кредита влияют на его возврат в срок, кредиты на покупку жилья недвижимости а также свадьбы менее рискованные чем кредиты на покупку машины. Потому что решения на получения таких кредитов принимаються наиболее осознано."
   ]
  },
  {
   "cell_type": "markdown",
   "metadata": {},
   "source": [
    "### Шаг 4. Общий вывод"
   ]
  },
  {
   "cell_type": "markdown",
   "metadata": {},
   "source": [
    "1. Обнаружены пропуски в столбцах days_employed и total_income, их количества равны. Возможно люди никогда не работали и на получали доход.Люди имеюшие пропуски в столбцах days_employed- общий трудовой стаж в днях и total_income-ежемесячный доход старше 18 лет,поэтому врядли они нигде не работали и не получали зарплату скорее всего мы имеем дело с ошибкой ввода данных. Поэтому заполним пропуски медианным значением.  Также обнаружены отрицательные значения в столбце  days_employed- общий трудовой стаж и в количестве детей, скорее всего ошибка внесения, были преобразованы в положительные тк они могут повлиять на медиану.  \n",
    "\n",
    "**Рекомендую: обратить внимание операторов и разработчиков онлайн форм, необходим контроль за внесением данного типа данных.** \n",
    "\n",
    "2. Были обнаруженны  существенные всплески в значениях стажа. Существование стажа в 1 тысчу лет маловероятно, наличие таких цифр связано скорее всего с технической ошибкой , возможно обьеденили 2 базы в одной из которых стаж считался в часах или минутах поэтому всплески на заменил на медианные значения Средняя продолжительность жизни мужчин в 2019 году в России составила 68,5 лет. Для женщин показатель еще выше — 78,5 лет. Поэтому возьмем максимальное значение для замены на медиану 70 лет стажа это 25550 дней\n",
    "\n",
    "**Рекомендую: обратить внимание на формат данных при обьединении баз данных.** \n",
    "\n",
    "3. В столбцах days_employed и total_income содержатся десятичные дроби до ста тысячных долей, а должны быть целочисленные тк зарплата в рублях и стаж в днях \n",
    "\n",
    "**Рекомендую: Возможно это возникает при преобразовании одного формата в другой. Возможно в каких то базах данных Стаж указывается в часах и зарплата в копейках, при преобразовании хорошо бы их приводить к целочисленному значению** \n",
    "\n",
    "4. В базе найдены дбликаты данных, но вопрос в том стоит ли их удалять мб это совпадения реальных клиентов, а может быть и нет. Но я думаю что при таком количестве различных данных для каждого клиента реальные совпадения врядли возможны, поэтому удалил дубликаты. Причина возникновения , возможно ошибка оператора который их вносил. Либо если обьеденялись несколько баз в одну были внесены одни и теже клиенты. Также обнаружены внесения данных в разных регистрах, все приведено к нижнему регистру для удобства сортировки , причина ошибка операторов при внесении.\n",
    "\n",
    "**Рекомендую: обратить внимание операторов и разработчиков онлайн форм, необходим контроль за внесением данного типа данных.** \n",
    "\n",
    "5. Цели кредита лучше упростить до одного слова \"свадьба, машина , недвижимость\" это упростить и ускорит обработку\n",
    "\n",
    "**Рекомендую: в анкетах заполняемых вручную и онлайн формах проставить готовые варианты ответов .** \n",
    "\n",
    "### При выдаче кредита необходимо:\n",
    "1. Обращать внимание на семейное положения заемщика люди не побывавшие в браке более склонны допускать просрочки платежей.\n",
    "2. Обращать внимание на доход заемщика люди с высоким уровнем дохода более склонны допускать просрочки платежей.\n",
    "3. Обращать внимание на наличие детей у заемщика люди с длетьми более склонны допускать просрочки платежей.\n",
    "4. Иметь ввиду что кредиты на покупку автомобиля и образование более рискованные чем на покупку недвижимости и свадьбы."
   ]
  },
  {
   "cell_type": "markdown",
   "metadata": {},
   "source": [
    "<div class=\"alert alert-danger\">\n",
    "<h2> Комментарий ревюера </h2>\n",
    "\n",
    "В общий вывод стоит добавить результаты работ на втором и третьем шагах, как ты обрабатывал пропуски, их возможные причины и тд. Т.е пропиши все, что ты делал, что получил и какие даешь рекомендации. Это позволит людям, у которых нет времени вникать в работу, понять что было сделано, как и для чего.\n",
    "    \n",
    "</div>"
   ]
  },
  {
   "cell_type": "markdown",
   "metadata": {},
   "source": [
    "### Чек-лист готовности проекта\n",
    "\n",
    "Поставьте 'x' в выполненных пунктах. Далее нажмите Shift+Enter."
   ]
  },
  {
   "cell_type": "markdown",
   "metadata": {},
   "source": [
    "- [x]  открыт файл;\n",
    "- [x]  файл изучен;\n",
    "- [x]  определены пропущенные значения;\n",
    "- [x]  заполнены пропущенные значения;\n",
    "- [x]  есть пояснение, какие пропущенные значения обнаружены;\n",
    "- [x]  описаны возможные причины появления пропусков в данных;\n",
    "- [x]  объяснено, по какому принципу заполнены пропуски;\n",
    "- [x]  заменен вещественный тип данных на целочисленный;\n",
    "- [x]  есть пояснение, какой метод используется для изменения типа данных и почему;\n",
    "- [x]  удалены дубликаты;\n",
    "- [x]  есть пояснение, какой метод используется для поиска и удаления дубликатов;\n",
    "- [x]  описаны возможные причины появления дубликатов в данных;\n",
    "- [x]  выделены леммы в значениях столбца с целями получения кредита;\n",
    "- [x]  описан процесс лемматизации;\n",
    "- [x]  данные категоризированы;\n",
    "- [x]  есть объяснение принципа категоризации данных;\n",
    "- [x]  есть ответ на вопрос: \"Есть ли зависимость между наличием детей и возвратом кредита в срок?\";\n",
    "- [x]  есть ответ на вопрос: \"Есть ли зависимость между семейным положением и возвратом кредита в срок?\";\n",
    "- [x]  есть ответ на вопрос: \"Есть ли зависимость между уровнем дохода и возвратом кредита в срок?\";\n",
    "- [x]  есть ответ на вопрос: \"Как разные цели кредита влияют на его возврат в срок?\";\n",
    "- [x]  в каждом этапе есть выводы;\n",
    "- [x]  есть общий вывод."
   ]
  },
  {
   "cell_type": "markdown",
   "metadata": {},
   "source": [
    "---\n",
    "\n",
    "У тебя получилась очень хорошая работа! Многие моменты сделаны просто прекрасно. Ты показал_а, что можешь уверенно пользоваться материалом и методами, которые были даны в модуле, уверенно пользуешься pandas.\n",
    "\n",
    "Остались небольшие доработки:\n",
    "\n",
    "- В шаге 2 сделай замену пропусков более детально;\n",
    "- В шаге 2 проанализировать столбцы с типом данных `object`\n",
    "- В шаге 4 необходимо дополнить общий вывод.\n",
    "\n",
    "Жду твоих исправлений, у тебя все получится 😊 "
   ]
  },
  {
   "cell_type": "code",
   "execution_count": null,
   "metadata": {},
   "outputs": [],
   "source": []
  }
 ],
 "metadata": {
  "kernelspec": {
   "display_name": "Python 3",
   "language": "python",
   "name": "python3"
  },
  "language_info": {
   "codemirror_mode": {
    "name": "ipython",
    "version": 3
   },
   "file_extension": ".py",
   "mimetype": "text/x-python",
   "name": "python",
   "nbconvert_exporter": "python",
   "pygments_lexer": "ipython3",
   "version": "3.7.1"
  }
 },
 "nbformat": 4,
 "nbformat_minor": 2
}
